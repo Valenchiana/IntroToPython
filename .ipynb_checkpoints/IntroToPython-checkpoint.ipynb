{
 "cells": [
  {
   "cell_type": "markdown",
   "id": "d0909204-b097-4804-a3ae-a6c500bf44a2",
   "metadata": {},
   "source": [
    "# Assignment: Intro to Python\n",
    "\n",
    "## Instructions\n",
    "\n",
    "This is the template file for the assignment of Module 4 called \"Intro to Python.\" Please carefully follow the instructions below.\n",
    "\n",
    "1. Rename this file by filling out your surname and first name in the file name. For example, if your surname is Ilagan and if your first name is Joben, then rename the file to ILAGAN-JOBEN-introToPython.ipynb.\n",
    "2. Fill out the markdown cell just above `Problem 1` with your student details as indicated.  \n",
    "3. To submit this file, first, upload your file to your GitHub repository and, second, submit your repository link to the assignment on Canvas.\n"
   ]
  },
  {
   "cell_type": "markdown",
   "id": "b23ee3e7-b7cf-4308-9039-f964ece290ae",
   "metadata": {},
   "source": [
    "## Student Details\n",
    "\n",
    "ID Number: 206230 \n",
    "Surname: Valencia \n",
    "Year and Course: 2 BS ITE "
   ]
  },
  {
   "cell_type": "markdown",
   "id": "65851df5-b5ac-4b96-8eaf-a8642ad1ef23",
   "metadata": {
    "tags": []
   },
   "source": [
    "## Problem 1 (5 points)\n",
    "\n",
    "This is the only problem in this assignment.  \n",
    "\n",
    "Overall prompt:  \n",
    "**Write a program that prompts the user to input three positive integers and outputs the average of those three positive integers.**  \n",
    "\n",
    "The program must follow these specifications:  \n",
    "1. Accept the user's input numbers one at a time. Use this format:  \n",
    "`Enter first number: {firstnumber}`  \n",
    "`Enter second number: {secondnumber}`  \n",
    "`Enter third number: {thirdnumber}`  \n",
    "2. The output should display using this format:  \n",
    "`The average is {average}.`  \n",
    "3. The program must, at some point, call a function called `three_number_average` that accepts three arguments and returns the average of those three arguments.  \n",
    "\n",
    "### Sample input and output\n",
    "\n",
    "Sample Input:  \n",
    "`Enter first number: 1`  \n",
    "`Enter second number: 2`  \n",
    "`Enter third number: 3`  \n",
    "Sample Output:  \n",
    "`The average is 2.0`  \n",
    "\n",
    "Sample Input:  \n",
    "`Enter first number: 1`  \n",
    "`Enter second number: 1`  \n",
    "`Enter third number: 1`  \n",
    "Sample Output:  \n",
    "`The average is 1.0`  \n",
    "\n",
    "Sample Input:\n",
    "`Enter first number: 2`  \n",
    "`Enter second number: 4`  \n",
    "`Enter third number: 6`  \n",
    "Sample Output:  \n",
    "`The average is 4.0`  "
   ]
  },
  {
   "cell_type": "markdown",
   "id": "7f4177c7",
   "metadata": {},
   "source": [
    " 1. ask for first number\n",
    " 2. ask for second number\n",
    " 3. ask for third number\n",
    " 4. compute the average of the three numbers / add the 3 numbers then divide the sum by 3 to get the average\n",
    " 5. print the three number average"
   ]
  },
  {
   "cell_type": "code",
   "execution_count": 1,
   "id": "a0bb89d9",
   "metadata": {},
   "outputs": [],
   "source": [
    "def three_number_average (firstnumber, secondnumber, thirdnumber):\n",
    "    average = (firstnumber + secondnumber + thirdnumber)/3\n",
    "    return average"
   ]
  },
  {
   "cell_type": "code",
   "execution_count": 4,
   "id": "de035c73",
   "metadata": {},
   "outputs": [
    {
     "name": "stdout",
     "output_type": "stream",
     "text": [
      "Enter first number: 5\n",
      "Enter second number: 6\n",
      "Enter third number: 7\n",
      "The average is:  6.0\n"
     ]
    }
   ],
   "source": [
    "# ask for the first number\n",
    "firstnumber = float(input(\"Enter first number: \"))\n",
    "\n",
    "# ask for the second number\n",
    "secondnumber = float(input(\"Enter second number: \"))\n",
    "\n",
    "# ask for the third number\n",
    "thirdnumber = float(input(\"Enter third number: \"))\n",
    "\n",
    "# compute for the average of the three numbers\n",
    "average = three_number_average(firstnumber, secondnumber, thirdnumber)\n",
    "\n",
    "# print the three number average\n",
    "print(\"The average is: \", average)"
   ]
  },
  {
   "cell_type": "code",
   "execution_count": null,
   "id": "a96292af",
   "metadata": {},
   "outputs": [],
   "source": []
  }
 ],
 "metadata": {
  "kernelspec": {
   "display_name": "Python 3",
   "language": "python",
   "name": "python3"
  },
  "language_info": {
   "codemirror_mode": {
    "name": "ipython",
    "version": 3
   },
   "file_extension": ".py",
   "mimetype": "text/x-python",
   "name": "python",
   "nbconvert_exporter": "python",
   "pygments_lexer": "ipython3",
   "version": "3.8.8"
  }
 },
 "nbformat": 4,
 "nbformat_minor": 5
}
